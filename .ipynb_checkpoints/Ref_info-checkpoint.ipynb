{
 "cells": [
  {
   "cell_type": "code",
   "execution_count": 41,
   "metadata": {
    "collapsed": true
   },
   "outputs": [],
   "source": [
    "import pymongo"
   ]
  },
  {
   "cell_type": "code",
   "execution_count": 42,
   "metadata": {
    "collapsed": true
   },
   "outputs": [],
   "source": [
    "client = pymongo.MongoClient()\n",
    "db = client['vitekAlpha']"
   ]
  },
  {
   "cell_type": "code",
   "execution_count": 43,
   "metadata": {},
   "outputs": [],
   "source": [
    "all_orgs = db.organism_indexes"
   ]
  },
  {
   "cell_type": "code",
   "execution_count": 44,
   "metadata": {},
   "outputs": [],
   "source": [
    "orgs = set()\n",
    "for org in all_orgs.find():\n",
    "    org_name = list(filter(lambda x: x != '_id', list(org.keys())))[0]\n",
    "    orgs.add(org_name)"
   ]
  },
  {
   "cell_type": "code",
   "execution_count": 45,
   "metadata": {},
   "outputs": [
    {
     "data": {
      "text/plain": [
       "{'Achromobacter denitrificans',\n",
       " 'Achromobacter xylosoxidans',\n",
       " 'Acinetobacter baumannii',\n",
       " 'Acinetobacter baumannii complex',\n",
       " 'Acinetobacter calcoaceticus',\n",
       " 'Acinetobacter haemolyticus',\n",
       " 'Acinetobacter johnsonii',\n",
       " 'Acinetobacter junii',\n",
       " 'Acinetobacter lwoffii',\n",
       " 'Acinetobacter pittii',\n",
       " 'Acinetobacter spp',\n",
       " 'Aeromonas caviae',\n",
       " 'Aeromonas hydrophila',\n",
       " 'Aeromonas hydrophilacaviae',\n",
       " 'Aeromonas sobria',\n",
       " 'Alcaligenes faecalis ssp faecalis',\n",
       " 'Brevundimonas diminuta',\n",
       " 'Burkholderia cepacia',\n",
       " 'Citrobacter amalonaticus',\n",
       " 'Citrobacter braakii',\n",
       " 'Citrobacter farmeri',\n",
       " 'Citrobacter freundii',\n",
       " 'Citrobacter koseri',\n",
       " 'Citrobacter youngae',\n",
       " 'Coagulase negative Staphylococcus',\n",
       " 'Coagulase positive Staphylococcus',\n",
       " 'Delftia acidovorans',\n",
       " 'Elizabethkingia meningoseptica',\n",
       " 'Enterobacter aerogenes',\n",
       " 'Enterobacter amnigenus',\n",
       " 'Enterobacter amnigenus 1',\n",
       " 'Enterobacter asburiae',\n",
       " 'Enterobacter cloacae',\n",
       " 'Enterobacter cloacae complex',\n",
       " 'Enterobacter cloacae ssp cloacae',\n",
       " 'Enterobacter cloacae ssp dissolvens',\n",
       " 'Enterobacter gergoviae',\n",
       " 'Enterococcus avium',\n",
       " 'Enterococcus casseliflavus',\n",
       " 'Enterococcus durans',\n",
       " 'Enterococcus faecalis',\n",
       " 'Enterococcus faecium',\n",
       " 'Enterococcus gallinarum',\n",
       " 'Enterococcus hirae',\n",
       " 'Enterococcus malodoratus',\n",
       " 'Enterococcus spp',\n",
       " 'Escherichia coli',\n",
       " 'Escherichia hermannii',\n",
       " 'Escherichia vulneris',\n",
       " 'Hafnia alvei',\n",
       " 'Klebsiella oxytoca',\n",
       " 'Klebsiella pneumoniae',\n",
       " 'Klebsiella pneumoniae ssp pneumoniae',\n",
       " 'Klebsiella pneumoniae ssp rhinoscleromatis',\n",
       " 'Klebsiella spp',\n",
       " 'Moraxella osloensis',\n",
       " 'Morganella morganii',\n",
       " 'Morganella morganii ssp morganii',\n",
       " 'Pantoea agglomerans',\n",
       " 'Pantoea dispersa',\n",
       " 'Pasteurella aerogenes',\n",
       " 'Pasteurella multocida',\n",
       " 'Proteus hauseri',\n",
       " 'Proteus mirabilis',\n",
       " 'Proteus penneri',\n",
       " 'Proteus vulgaris',\n",
       " 'Proteus vulgaris group',\n",
       " 'Proteus vulgaris groupProteus penneri',\n",
       " 'Providencia rettgeri',\n",
       " 'Providencia rustigianii',\n",
       " 'Providencia stuartii',\n",
       " 'Pseudomonas aeruginosa',\n",
       " 'Pseudomonas alcaligenes',\n",
       " 'Pseudomonas fluorescens',\n",
       " 'Pseudomonas luteola',\n",
       " 'Pseudomonas oryzihabitans',\n",
       " 'Pseudomonas pseudoalcaligenes',\n",
       " 'Pseudomonas putida',\n",
       " 'Pseudomonas spp',\n",
       " 'Pseudomonas stutzeri',\n",
       " 'Ralstonia pickettii',\n",
       " 'Raoultella ornithinolytica',\n",
       " 'Raoultella planticola',\n",
       " 'Raoultella terrigena',\n",
       " 'Salmonella spp',\n",
       " 'Serratia ficaria',\n",
       " 'Serratia fonticola',\n",
       " 'Serratia grimesii',\n",
       " 'Serratia liquefaciens',\n",
       " 'Serratia liquefaciens group',\n",
       " 'Serratia marcescens',\n",
       " 'Serratia odorifera',\n",
       " 'Serratia plymuthica',\n",
       " 'Serratia proteamaculans',\n",
       " 'Serratia rubidaea',\n",
       " 'Sphingomonas paucimobilis',\n",
       " 'Staphylococcus aureus',\n",
       " 'Staphylococcus capitis',\n",
       " 'Staphylococcus cohnii',\n",
       " 'Staphylococcus cohnii ssp urealyticus',\n",
       " 'Staphylococcus epidermidis',\n",
       " 'Staphylococcus haemolyticus',\n",
       " 'Staphylococcus hominis',\n",
       " 'Staphylococcus hominis ssp hominis',\n",
       " 'Staphylococcus lugdunensis',\n",
       " 'Staphylococcus pseudintermedius',\n",
       " 'Staphylococcus saprophyticus',\n",
       " 'Staphylococcus schleiferi',\n",
       " 'Staphylococcus simulans',\n",
       " 'Staphylococcus warneri',\n",
       " 'Staphylococcus xylosus',\n",
       " 'Stenotrophomonas maltophilia',\n",
       " 'Streptococcus agalactiae',\n",
       " 'Streptococcus pneumoniae',\n",
       " 'Vibrio alginolyticus',\n",
       " 'Yersinia enterocolitica'}"
      ]
     },
     "execution_count": 45,
     "metadata": {},
     "output_type": "execute_result"
    }
   ],
   "source": [
    "orgs"
   ]
  },
  {
   "cell_type": "code",
   "execution_count": 46,
   "metadata": {
    "collapsed": true
   },
   "outputs": [],
   "source": [
    "all_reports = db.reports.find()"
   ]
  },
  {
   "cell_type": "code",
   "execution_count": 47,
   "metadata": {},
   "outputs": [],
   "source": [
    "unique_drug_names = set()\n",
    "def get_drug_names(mic_data):\n",
    "    drugs = []\n",
    "    for mic in mic_data:\n",
    "        drugs.append(mic['drug'])\n",
    "    return drugs\n",
    "\n",
    "def add_drugs_to_list(report, unique_drug_names):\n",
    "    org_summary = report['organism_summary']\n",
    "    for org in org_summary:\n",
    "        mic_data = org['isolate_data']['mic_data']\n",
    "        for drug in get_drug_names(mic_data):\n",
    "            unique_drug_names.add(drug)\n",
    "            \n",
    "for report in all_reports:\n",
    "    add_drugs_to_list(report, unique_drug_names)"
   ]
  },
  {
   "cell_type": "code",
   "execution_count": 48,
   "metadata": {},
   "outputs": [
    {
     "data": {
      "text/plain": [
       "{'Amikacin',\n",
       " 'Amoxicillin',\n",
       " 'AmoxicillinClavulanic Acid',\n",
       " 'Ampicillin',\n",
       " 'AmpicillinSulbactam',\n",
       " 'Aztreonam',\n",
       " 'Benzylpenicillin',\n",
       " 'Cefaclor',\n",
       " 'Cefalexin',\n",
       " 'Cefalotin',\n",
       " 'Cefepime',\n",
       " 'Cefotaxime',\n",
       " 'Cefoxitin',\n",
       " 'Cefoxitin Screen',\n",
       " 'Ceftazidime',\n",
       " 'Ceftriaxone',\n",
       " 'Cefuroxime',\n",
       " 'Cefuroxime Axetil',\n",
       " 'Chloramphenicol',\n",
       " 'Ciprofloxacin',\n",
       " 'Clindamycin',\n",
       " 'Colistin',\n",
       " 'Daptomycin',\n",
       " 'Ertapenem',\n",
       " 'Erythromycin',\n",
       " 'Fosfomycin',\n",
       " 'Fusidic Acid',\n",
       " 'Gentamicin',\n",
       " 'Gentamicin High Level (synergy)',\n",
       " 'Imipenem',\n",
       " 'Inducible Clindamycin Resistance',\n",
       " 'Kanamycin High Level (synergy)',\n",
       " 'Levofloxacin',\n",
       " 'Linezolid',\n",
       " 'Meropenem',\n",
       " 'Minocycline',\n",
       " 'Moxifloxacin',\n",
       " 'Mupirocin',\n",
       " 'Nalidixic Acid',\n",
       " 'Nitrofurantoin',\n",
       " 'Ofloxacin',\n",
       " 'Oxacillin',\n",
       " 'Piperacillin',\n",
       " 'PiperacillinTazobactam',\n",
       " 'Pristinamycin',\n",
       " 'QuinupristinDalfopristin',\n",
       " 'Rifampicin',\n",
       " 'Sparfloxacin',\n",
       " 'Streptomycin High Level (synergy)',\n",
       " 'Teicoplanin',\n",
       " 'Telithromycin',\n",
       " 'Temocillin',\n",
       " 'Tetracycline',\n",
       " 'Ticarcillin',\n",
       " 'TicarcillinClavulanic Acid',\n",
       " 'Tigecycline',\n",
       " 'Tobramycin',\n",
       " 'Trimethoprim',\n",
       " 'TrimethoprimSulfamethoxazole',\n",
       " 'Vancomycin'}"
      ]
     },
     "execution_count": 48,
     "metadata": {},
     "output_type": "execute_result"
    }
   ],
   "source": [
    "unique_drug_names"
   ]
  },
  {
   "cell_type": "code",
   "execution_count": 51,
   "metadata": {
    "collapsed": true
   },
   "outputs": [],
   "source": [
    "reference_data = {\n",
    "    'organisms': [{'name': org_name} for org_name in orgs],\n",
    "    'drugs': [{'name': drug_name} for drug_name in unique_drug_names]\n",
    "}"
   ]
  },
  {
   "cell_type": "code",
   "execution_count": 53,
   "metadata": {},
   "outputs": [
    {
     "data": {
      "text/plain": [
       "<pymongo.results.InsertOneResult at 0x7f3f370395c8>"
      ]
     },
     "execution_count": 53,
     "metadata": {},
     "output_type": "execute_result"
    }
   ],
   "source": [
    "db.reference_data.insert_one(reference_data)"
   ]
  },
  {
   "cell_type": "code",
   "execution_count": null,
   "metadata": {
    "collapsed": true
   },
   "outputs": [],
   "source": []
  }
 ],
 "metadata": {
  "kernelspec": {
   "display_name": "Python 3",
   "language": "python",
   "name": "python3"
  },
  "language_info": {
   "codemirror_mode": {
    "name": "ipython",
    "version": 3
   },
   "file_extension": ".py",
   "mimetype": "text/x-python",
   "name": "python",
   "nbconvert_exporter": "python",
   "pygments_lexer": "ipython3",
   "version": "3.5.2"
  }
 },
 "nbformat": 4,
 "nbformat_minor": 2
}
